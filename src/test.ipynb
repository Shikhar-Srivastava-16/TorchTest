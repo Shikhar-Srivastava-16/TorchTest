{
 "cells": [
  {
   "cell_type": "code",
   "execution_count": 1,
   "metadata": {},
   "outputs": [],
   "source": [
    "import torch\n",
    "from torch import nn\n",
    "\n",
    "# Import torchvision \n",
    "import torchvision\n",
    "from torchvision import datasets as ds\n",
    "from torchvision.transforms import ToTensor as toTvTensor\n",
    "\n",
    "# Import matplotlib for visualization\n",
    "import matplotlib.pyplot as plt\n",
    "import numpy\n",
    "\n",
    "import net_tools as nt\n"
   ]
  },
  {
   "cell_type": "code",
   "execution_count": 2,
   "metadata": {},
   "outputs": [],
   "source": [
    "train_data = ds.FashionMNIST(\n",
    "    root = \"../dat/\",\n",
    "    train = True, # get training data\n",
    "    download = True, # download data if it doesn't exist on disk\n",
    "    transform = toTvTensor(), # images come as PIL format, we want to turn into Torch tensors\n",
    "    target_transform=None # you can transform labels as well\n",
    ")\n",
    "\n",
    "test_data = ds.FashionMNIST(\n",
    "    root = \"../dat/\",\n",
    "    train=False, # get test data\n",
    "    download=True,\n",
    "    transform=toTvTensor()\n",
    ")"
   ]
  },
  {
   "cell_type": "code",
   "execution_count": 3,
   "metadata": {},
   "outputs": [],
   "source": [
    "DEVICE = \"cpu\"\n",
    "classes = ds.FashionMNIST.classes"
   ]
  },
  {
   "cell_type": "code",
   "execution_count": 4,
   "metadata": {},
   "outputs": [],
   "source": [
    "from torch.utils.data import DataLoader\n",
    "\n",
    "BATCH_SIZE = 32\n",
    "# Setup the batch size hyperparameter\n",
    "\n",
    "# Turn datasets into iterables (batches)\n",
    "train_dataloader = DataLoader(\n",
    "    train_data, # dataset to turn into iterable\n",
    "    batch_size=BATCH_SIZE, # how many samples per batch? \n",
    "    shuffle=True # shuffle data every epoch?\n",
    ")\n",
    "\n",
    "test_dataloader = DataLoader(\n",
    "    test_data,\n",
    "    batch_size=BATCH_SIZE,\n",
    "    shuffle=False # don't necessarily have to shuffle the testing data\n",
    ")"
   ]
  },
  {
   "cell_type": "code",
   "execution_count": 5,
   "metadata": {},
   "outputs": [
    {
     "data": {
      "text/plain": [
       "ConvNet(\n",
       "  (block_1): Sequential(\n",
       "    (0): Conv2d(1, 10, kernel_size=(3, 3), stride=(1, 1), padding=(1, 1))\n",
       "    (1): ReLU()\n",
       "    (2): Conv2d(10, 10, kernel_size=(3, 3), stride=(1, 1), padding=(1, 1))\n",
       "    (3): ReLU()\n",
       "    (4): MaxPool2d(kernel_size=2, stride=2, padding=0, dilation=1, ceil_mode=False)\n",
       "  )\n",
       "  (block_2): Sequential(\n",
       "    (0): Conv2d(10, 10, kernel_size=(3, 3), stride=(1, 1), padding=(1, 1))\n",
       "    (1): ReLU()\n",
       "    (2): Conv2d(10, 10, kernel_size=(3, 3), stride=(1, 1), padding=(1, 1))\n",
       "    (3): ReLU()\n",
       "    (4): MaxPool2d(kernel_size=2, stride=2, padding=0, dilation=1, ceil_mode=False)\n",
       "  )\n",
       "  (out): Sequential(\n",
       "    (0): Flatten(start_dim=1, end_dim=-1)\n",
       "    (1): Linear(in_features=490, out_features=10, bias=True)\n",
       "  )\n",
       ")"
      ]
     },
     "execution_count": 5,
     "metadata": {},
     "output_type": "execute_result"
    }
   ],
   "source": [
    "# Create a model with non-linear and linear layer\n",
    "\n",
    "net = nt.ConvNet(\n",
    "    1,\n",
    "    10,\n",
    "    len(classes)\n",
    ")\n",
    "net.to(DEVICE)"
   ]
  },
  {
   "cell_type": "code",
   "execution_count": 6,
   "metadata": {},
   "outputs": [
    {
     "data": {
      "text/plain": [
       "['T-shirt/top',\n",
       " 'Trouser',\n",
       " 'Pullover',\n",
       " 'Dress',\n",
       " 'Coat',\n",
       " 'Sandal',\n",
       " 'Shirt',\n",
       " 'Sneaker',\n",
       " 'Bag',\n",
       " 'Ankle boot']"
      ]
     },
     "execution_count": 6,
     "metadata": {},
     "output_type": "execute_result"
    }
   ],
   "source": [
    "classes"
   ]
  },
  {
   "cell_type": "code",
   "execution_count": 22,
   "metadata": {},
   "outputs": [],
   "source": [
    "net = nt.ConvNet(\n",
    "    1,\n",
    "    10,\n",
    "    len(classes)\n",
    ")\n",
    "net.to(DEVICE)\n",
    "\n",
    "import tqdm\n",
    "\n",
    "EPOCHS = 5\n",
    "list_train_acc = []\n",
    "list_test_acc = []"
   ]
  },
  {
   "cell_type": "code",
   "execution_count": 26,
   "metadata": {},
   "outputs": [
    {
     "name": "stderr",
     "output_type": "stream",
     "text": [
      "  0%|          | 0/5 [00:00<?, ?it/s]"
     ]
    },
    {
     "name": "stdout",
     "output_type": "stream",
     "text": [
      "epoch: 1\n",
      "--------------------\n",
      "Train loss: 0.26254 | Train accuracy: 90.29%\n"
     ]
    },
    {
     "name": "stderr",
     "output_type": "stream",
     "text": [
      " 20%|██        | 1/5 [00:28<01:53, 28.32s/it]"
     ]
    },
    {
     "name": "stdout",
     "output_type": "stream",
     "text": [
      "Test loss: 0.29124 | Test accuracy: 89.27%\n",
      "\n",
      "test data logged\n",
      "epoch: 2\n",
      "--------------------\n",
      "Train loss: 0.25514 | Train accuracy: 90.72%\n"
     ]
    },
    {
     "name": "stderr",
     "output_type": "stream",
     "text": [
      " 40%|████      | 2/5 [00:57<01:25, 28.56s/it]"
     ]
    },
    {
     "name": "stdout",
     "output_type": "stream",
     "text": [
      "Test loss: 0.29446 | Test accuracy: 89.49%\n",
      "\n",
      "test data logged\n",
      "epoch: 3\n",
      "--------------------\n",
      "Train loss: 0.24825 | Train accuracy: 91.01%\n"
     ]
    },
    {
     "name": "stderr",
     "output_type": "stream",
     "text": [
      " 60%|██████    | 3/5 [01:24<00:56, 28.26s/it]"
     ]
    },
    {
     "name": "stdout",
     "output_type": "stream",
     "text": [
      "Test loss: 0.29035 | Test accuracy: 89.16%\n",
      "\n",
      "test data logged\n",
      "epoch: 4\n",
      "--------------------\n",
      "Train loss: 0.24621 | Train accuracy: 91.02%\n"
     ]
    },
    {
     "name": "stderr",
     "output_type": "stream",
     "text": [
      " 80%|████████  | 4/5 [01:53<00:28, 28.33s/it]"
     ]
    },
    {
     "name": "stdout",
     "output_type": "stream",
     "text": [
      "Test loss: 0.27169 | Test accuracy: 89.98%\n",
      "\n",
      "test data logged\n",
      "epoch: 5\n",
      "--------------------\n",
      "Train loss: 0.24068 | Train accuracy: 91.11%\n"
     ]
    },
    {
     "name": "stderr",
     "output_type": "stream",
     "text": [
      "100%|██████████| 5/5 [02:20<00:00, 28.10s/it]"
     ]
    },
    {
     "name": "stdout",
     "output_type": "stream",
     "text": [
      "Test loss: 0.28883 | Test accuracy: 90.04%\n",
      "\n",
      "test data logged\n"
     ]
    },
    {
     "name": "stderr",
     "output_type": "stream",
     "text": [
      "\n"
     ]
    }
   ],
   "source": [
    "# Testing loop\n",
    "for i in tqdm.tqdm(range(EPOCHS)):\n",
    "   print(f\"epoch: {i+1}\\n--------------------\")\n",
    "   train_acc = nt.train(\n",
    "       net,\n",
    "       train_dataloader,\n",
    "       nn.CrossEntropyLoss(),\n",
    "       torch.optim.SGD(net.parameters(), lr = 0.1),\n",
    "       nt.accuracy_fn,\n",
    "       DEVICE\n",
    "    )\n",
    "   \n",
    "   if (i + 1)%1 == 0: \n",
    "      test_acc = nt.test(\n",
    "         test_dataloader,\n",
    "         net,\n",
    "         nn.CrossEntropyLoss(),\n",
    "         nt.accuracy_fn,\n",
    "         DEVICE\n",
    "      )\n",
    "      print(\"test data logged\")\n",
    "   \n",
    "   list_train_acc.append(train_acc)\n",
    "   list_test_acc.append(test_acc)"
   ]
  },
  {
   "cell_type": "code",
   "execution_count": 24,
   "metadata": {},
   "outputs": [
    {
     "data": {
      "text/plain": [
       "([78.545, 87.79333333333334, 88.97, 89.65166666666667, 90.08666666666667],\n",
       " [86.00239616613419,\n",
       "  87.55990415335464,\n",
       "  89.08746006389777,\n",
       "  88.87779552715655,\n",
       "  89.66653354632588])"
      ]
     },
     "execution_count": 24,
     "metadata": {},
     "output_type": "execute_result"
    }
   ],
   "source": [
    "list_train_acc, list_test_acc"
   ]
  },
  {
   "cell_type": "code",
   "execution_count": 9,
   "metadata": {},
   "outputs": [],
   "source": [
    "import numpy as np"
   ]
  },
  {
   "cell_type": "code",
   "execution_count": 25,
   "metadata": {},
   "outputs": [
    {
     "data": {
      "image/png": "[encoded data removed]",
      "text/plain": [
       "<Figure size 640x480 with 1 Axes>"
      ]
     },
     "metadata": {},
     "output_type": "display_data"
    }
   ],
   "source": [
    "plt.plot(np.array(list_train_acc), ls='--')\n",
    "plt.plot(np.array(list_test_acc), ls=':')\n",
    "plt.title(\"Results for CNN Model\")\n",
    "plt.xlabel(\"x = epochs\")\n",
    "plt.ylabel(\"y = %age\")\n",
    "plt.show()"
   ]
  }
 ],
 "metadata": {
  "kernelspec": {
   "display_name": "Python 3",
   "language": "python",
   "name": "python3"
  },
  "language_info": {
   "codemirror_mode": {
    "name": "ipython",
    "version": 3
   },
   "file_extension": ".py",
   "mimetype": "text/x-python",
   "name": "python",
   "nbconvert_exporter": "python",
   "pygments_lexer": "ipython3",
   "version": "3.11.9"
  }
 },
 "nbformat": 4,
 "nbformat_minor": 2
}
